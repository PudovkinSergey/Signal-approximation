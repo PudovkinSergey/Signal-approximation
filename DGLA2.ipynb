{
 "cells": [
  {
   "cell_type": "markdown",
   "metadata": {},
   "source": [
    "    На отрезке [-1,1] измеряется сигнал f(x) в точках x_j. Погрешностиь сигнала не более дельта. Задача: аппроксимировать экспериментаьные данные полиномом p(x). \n",
    "    Свести задачу к решению переопределенной системы Ap+r=f~. p=(p_1....p_M), f~_j - измеренные в x_j значения функции \n",
    "    f(x_j),|f~_j-f(x_j)|<delta.\n",
    "    Найти: |f(x)-p(x)|, ||r||, cond(A)"
   ]
  },
  {
   "cell_type": "code",
   "execution_count": 211,
   "metadata": {},
   "outputs": [
    {
     "data": {
      "text/html": [
       "<table>\n",
       "<thead>\n",
       "<tr><th style=\"text-align: right;\">              N=10</th><th style=\"text-align: right;\">              N=15</th><th style=\"text-align: right;\">              N=20</th></tr>\n",
       "</thead>\n",
       "<tbody>\n",
       "<tr><td style=\"text-align: right;\">38.896525680213230</td><td style=\"text-align: right;\">39.772767299530692</td><td style=\"text-align: right;\">40.409980033149310</td></tr>\n",
       "</tbody>\n",
       "</table>"
      ],
      "text/plain": [
       "<IPython.core.display.HTML object>"
      ]
     },
     "metadata": {},
     "output_type": "display_data"
    },
    {
     "data": {
      "text/html": [
       "<table>\n",
       "<thead>\n",
       "<tr><th style=\"text-align: right;\">  N\\delta</th><th style=\"text-align: right;\">          10^(-2)</th><th style=\"text-align: right;\">          10^(-4)</th><th style=\"text-align: right;\">          10^(-6)</th></tr>\n",
       "</thead>\n",
       "<tbody>\n",
       "<tr><td style=\"text-align: right;\">       10</td><td style=\"text-align: right;\">0.032021683456909</td><td style=\"text-align: right;\">0.029305695159139</td><td style=\"text-align: right;\">0.029305458486906</td></tr>\n",
       "<tr><td style=\"text-align: right;\">       15</td><td style=\"text-align: right;\">0.041435871668498</td><td style=\"text-align: right;\">0.036932051766956</td><td style=\"text-align: right;\">0.036892285588377</td></tr>\n",
       "<tr><td style=\"text-align: right;\">       20</td><td style=\"text-align: right;\">0.041905209777183</td><td style=\"text-align: right;\">0.042370743206235</td><td style=\"text-align: right;\">0.042363157747847</td></tr>\n",
       "</tbody>\n",
       "</table>"
      ],
      "text/plain": [
       "<IPython.core.display.HTML object>"
      ]
     },
     "metadata": {},
     "output_type": "display_data"
    },
    {
     "data": {
      "text/html": [
       "<table>\n",
       "<thead>\n",
       "<tr><th style=\"text-align: right;\">  N\\delta</th><th style=\"text-align: right;\">          10^(-2)</th><th style=\"text-align: right;\">          10^(-4)</th><th style=\"text-align: right;\">          10^(-6)</th></tr>\n",
       "</thead>\n",
       "<tbody>\n",
       "<tr><td style=\"text-align: right;\">       10</td><td style=\"text-align: right;\">0.102138836281671</td><td style=\"text-align: right;\">0.099434131453182</td><td style=\"text-align: right;\">0.099456839031390</td></tr>\n",
       "<tr><td style=\"text-align: right;\">       15</td><td style=\"text-align: right;\">0.121050770554520</td><td style=\"text-align: right;\">0.116720990660232</td><td style=\"text-align: right;\">0.116716262703270</td></tr>\n",
       "<tr><td style=\"text-align: right;\">       20</td><td style=\"text-align: right;\">0.136158069999024</td><td style=\"text-align: right;\">0.130904745583293</td><td style=\"text-align: right;\">0.130899568794698</td></tr>\n",
       "</tbody>\n",
       "</table>"
      ],
      "text/plain": [
       "<IPython.core.display.HTML object>"
      ]
     },
     "metadata": {},
     "output_type": "display_data"
    }
   ],
   "source": [
    "import math\n",
    "import numpy as np\n",
    "import numpy.linalg\n",
    "import random\n",
    "np.set_printoptions(precision=20,suppress=True)\n",
    "\n",
    "\n",
    "def program(N,delta):\n",
    "    M=6\n",
    "\n",
    "    # Определение функций из условия\n",
    "    def f(x):\n",
    "        return math.cos(math.pi*x)\n",
    "    def p(x,p_k):\n",
    "        res=0\n",
    "        for i in range(0,M):\n",
    "            res=res+p_k[i]*pow(x,i)\n",
    "        return res\n",
    "\n",
    "    # Точки отрезка [-1,1] \n",
    "    x=np.linspace(-1, 1, 2*N+1)\n",
    "\n",
    "    # Значения функции f(x) в точках х\n",
    "    f_k=[]\n",
    "    for k in x:\n",
    "        f_k.append(f(k))\n",
    "\n",
    "    # Значение зашумленной функции f(x)\n",
    "    fk_noise=[]\n",
    "    for fx in f_k:\n",
    "        fk_noise.append(fx+random.uniform(-delta/2,delta/2))\n",
    "    fk_noise=np.asarray(fk_noise)\n",
    "    # Cоставление матрицы А\n",
    "    A=[]\n",
    "    for i in x:\n",
    "        row=[]\n",
    "        for j in range(0,M):\n",
    "            row.append(P(j,i))\n",
    "        A.append(row)\n",
    "    A=np.array(A)\n",
    "\n",
    "    # Вычисление числа обусловленности \n",
    "    condA=numpy.linalg.cond(A)\n",
    "\n",
    "    # Решение переопределенной системы методом наименьших квадратов\n",
    "    p_k = np.linalg.lstsq(A, fk_noise,rcond=None)[0]\n",
    "\n",
    "    # находим модули разности |f(x)-p(x)|\n",
    "    abs_sub=[]\n",
    "    for i in x:\n",
    "        abs_sub.append(abs(f(i)-p(i,p_k)))\n",
    "    abs_sub=np.asarray(abs_sub)\n",
    "    abs_sub_max=max(abs_sub.min(), abs_sub.max(), key=abs)\n",
    "\n",
    "\n",
    "    # Ищем максимальный по модулю вектор невязки r\n",
    "    r=A.dot(p_k)-fk_noise\n",
    "    abs_r=np.linalg.norm(r)\n",
    "    return [condA,abs_sub_max,abs_r]\n",
    "\n",
    "# Подсчет всех нужных данных\n",
    "table_mu=[]\n",
    "dict_r={2:[],4:[],6:[]}\n",
    "dict_s={2:[],4:[],6:[]}\n",
    "for i in [10,15,20]:\n",
    "    for j in [2,4,6]:\n",
    "        mu,sub,r=program(i,pow(10,-1*j))\n",
    "        dict_r[j].append(r)\n",
    "        dict_s[j].append(sub)\n",
    "    table_mu.append(mu)\n",
    "        \n",
    "\n",
    "# Вывод чисел обусловленности в виде таблицы\n",
    "from IPython.display import HTML, display\n",
    "import tabulate\n",
    "table = np.array([table_mu])\n",
    "display(HTML(tabulate.tabulate(table, headers=[\"N=10\",\"N=15\",\"N=20\"],tablefmt='html',floatfmt=(\".15f\",\".15f\",\".15f\"))))\n",
    "\n",
    "\n",
    "# Вывод модуля разности в виде таблицы\n",
    "from IPython.display import HTML, display\n",
    "import tabulate\n",
    "table = np.array([[10,15,20],dict_s[2],dict_s[4],dict_s[6]])\n",
    "display(HTML(tabulate.tabulate(table.transpose(), headers=[\"N\\delta\",\"10^(-2)\",\"10^(-4)\",\"10^(-6)\"],tablefmt='html',floatfmt=(\".0f\",\".15f\",\".15f\",\".15f\"))))\n",
    "\n",
    "\n",
    "# Вывод норм r в виде таблицы\n",
    "from IPython.display import HTML, display\n",
    "import tabulate\n",
    "table = np.array([[10,15,20],dict_r[2],dict_r[4],dict_r[6]])\n",
    "display(HTML(tabulate.tabulate(table.transpose(), headers=[\"N\\delta\",\"10^(-2)\",\"10^(-4)\",\"10^(-6)\"],tablefmt='html',floatfmt=(\".0f\",\".15f\",\".15f\",\".15f\"))))"
   ]
  },
  {
   "cell_type": "code",
   "execution_count": null,
   "metadata": {},
   "outputs": [],
   "source": []
  }
 ],
 "metadata": {
  "kernelspec": {
   "display_name": "Python 3",
   "language": "python",
   "name": "python3"
  },
  "language_info": {
   "codemirror_mode": {
    "name": "ipython",
    "version": 3
   },
   "file_extension": ".py",
   "mimetype": "text/x-python",
   "name": "python",
   "nbconvert_exporter": "python",
   "pygments_lexer": "ipython3",
   "version": "3.6.5"
  }
 },
 "nbformat": 4,
 "nbformat_minor": 2
}
