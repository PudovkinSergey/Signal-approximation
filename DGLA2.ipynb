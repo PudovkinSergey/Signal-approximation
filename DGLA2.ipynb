{
 "cells": [
  {
   "cell_type": "code",
   "execution_count": 81,
   "metadata": {},
   "outputs": [],
   "source": [
    "import math\n",
    "import numpy as np\n",
    "import numpy.linalg\n",
    "N=10 #15,20\n",
    "delta=pow(10,-2) #pow(10,-4) pow(10,-6)\n",
    "M=6\n"
   ]
  },
  {
   "cell_type": "code",
   "execution_count": 62,
   "metadata": {},
   "outputs": [],
   "source": [
    "def f(x):\n",
    "    return math.cos(math.pi*x)\n",
    "def P(k,x):\n",
    "    return pow(x,k)\n",
    "x=np.linspace(-1, 1, 2*N+1)\n"
   ]
  },
  {
   "cell_type": "code",
   "execution_count": 98,
   "metadata": {},
   "outputs": [],
   "source": [
    "A=[]\n",
    "for i in x:\n",
    "    row=[]\n",
    "    for j in range(0,M):\n",
    "        row.append(P(j,i))\n",
    "    A.append(row)"
   ]
  },
  {
   "cell_type": "code",
   "execution_count": 99,
   "metadata": {},
   "outputs": [],
   "source": [
    "A=np.array(A)"
   ]
  },
  {
   "cell_type": "code",
   "execution_count": 100,
   "metadata": {},
   "outputs": [],
   "source": [
    "np.set_printoptions(precision=2,suppress=True)"
   ]
  },
  {
   "cell_type": "code",
   "execution_count": 101,
   "metadata": {},
   "outputs": [
    {
     "data": {
      "text/plain": [
       "array([[ 1.  , -1.  ,  1.  , -1.  ,  1.  , -1.  ],\n",
       "       [ 1.  , -0.9 ,  0.81, -0.73,  0.66, -0.59],\n",
       "       [ 1.  , -0.8 ,  0.64, -0.51,  0.41, -0.33],\n",
       "       [ 1.  , -0.7 ,  0.49, -0.34,  0.24, -0.17],\n",
       "       [ 1.  , -0.6 ,  0.36, -0.22,  0.13, -0.08],\n",
       "       [ 1.  , -0.5 ,  0.25, -0.12,  0.06, -0.03],\n",
       "       [ 1.  , -0.4 ,  0.16, -0.06,  0.03, -0.01],\n",
       "       [ 1.  , -0.3 ,  0.09, -0.03,  0.01, -0.  ],\n",
       "       [ 1.  , -0.2 ,  0.04, -0.01,  0.  , -0.  ],\n",
       "       [ 1.  , -0.1 ,  0.01, -0.  ,  0.  , -0.  ],\n",
       "       [ 1.  ,  0.  ,  0.  ,  0.  ,  0.  ,  0.  ],\n",
       "       [ 1.  ,  0.1 ,  0.01,  0.  ,  0.  ,  0.  ],\n",
       "       [ 1.  ,  0.2 ,  0.04,  0.01,  0.  ,  0.  ],\n",
       "       [ 1.  ,  0.3 ,  0.09,  0.03,  0.01,  0.  ],\n",
       "       [ 1.  ,  0.4 ,  0.16,  0.06,  0.03,  0.01],\n",
       "       [ 1.  ,  0.5 ,  0.25,  0.12,  0.06,  0.03],\n",
       "       [ 1.  ,  0.6 ,  0.36,  0.22,  0.13,  0.08],\n",
       "       [ 1.  ,  0.7 ,  0.49,  0.34,  0.24,  0.17],\n",
       "       [ 1.  ,  0.8 ,  0.64,  0.51,  0.41,  0.33],\n",
       "       [ 1.  ,  0.9 ,  0.81,  0.73,  0.66,  0.59],\n",
       "       [ 1.  ,  1.  ,  1.  ,  1.  ,  1.  ,  1.  ]])"
      ]
     },
     "execution_count": 101,
     "metadata": {},
     "output_type": "execute_result"
    }
   ],
   "source": [
    "A"
   ]
  },
  {
   "cell_type": "code",
   "execution_count": 102,
   "metadata": {},
   "outputs": [
    {
     "data": {
      "text/plain": [
       "38.89652568021323"
      ]
     },
     "execution_count": 102,
     "metadata": {},
     "output_type": "execute_result"
    }
   ],
   "source": [
    "numpy.linalg.cond(A)"
   ]
  },
  {
   "cell_type": "code",
   "execution_count": null,
   "metadata": {},
   "outputs": [],
   "source": []
  },
  {
   "cell_type": "code",
   "execution_count": null,
   "metadata": {},
   "outputs": [],
   "source": []
  }
 ],
 "metadata": {
  "kernelspec": {
   "display_name": "Python 3",
   "language": "python",
   "name": "python3"
  },
  "language_info": {
   "codemirror_mode": {
    "name": "ipython",
    "version": 3
   },
   "file_extension": ".py",
   "mimetype": "text/x-python",
   "name": "python",
   "nbconvert_exporter": "python",
   "pygments_lexer": "ipython3",
   "version": "3.6.5"
  }
 },
 "nbformat": 4,
 "nbformat_minor": 2
}
